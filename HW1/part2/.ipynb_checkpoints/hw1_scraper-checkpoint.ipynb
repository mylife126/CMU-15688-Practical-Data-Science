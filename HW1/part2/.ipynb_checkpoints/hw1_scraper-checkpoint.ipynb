{
 "cells": [
  {
   "cell_type": "markdown",
   "metadata": {},
   "source": [
    "# Scraper\n",
    "\n"
   ]
  },
  {
   "cell_type": "code",
   "execution_count": 2,
   "metadata": {},
   "outputs": [],
   "source": [
    "# setup library imports\n",
    "import io, time, json\n",
    "import requests\n",
    "from pathlib import Path\n",
    "from bs4 import BeautifulSoup\n",
    "from testing.testing import test\n",
    "import re\n"
   ]
  },
  {
   "cell_type": "markdown",
   "metadata": {},
   "source": [
    "## Library Documentation\n",
    "\n",
    "* Standard Library: \n",
    "    * [io](https://docs.python.org/2/library/io.html)\n",
    "    * [time](https://docs.python.org/2/library/time.html)\n",
    "    * [json](https://docs.python.org/2/library/json.html)\n",
    "\n",
    "* Third Party\n",
    "    * [requests](http://docs.python-requests.org/en/master/)\n",
    "    * [Beautiful Soup (version 4)](https://www.crummy.com/software/BeautifulSoup/bs4/doc/)\n",
    "    * [yelp-fusion](https://www.yelp.com/developers/documentation/v3/get_started)\n",
    "\n",
    "**Note:** You may come across a `yelp-python` library online. The library is deprecated and incompatible with the current Yelp API, so do not use the library."
   ]
  },
  {
   "cell_type": "markdown",
   "metadata": {},
   "source": [
    "## Introduction\n",
    "\n",
    "Welcome to the homework on web scraping. While many people might view working with data (including scraping, parsing, storing, etc.) a necessary evil to get to the \"fun\" stuff (i.e. modeling), I think that if presented in the right way this munging can be quite empowering. Imagine you never had to worry or ask those _what if_ questions about data existing or being accessible... but that you can get it yourself!\n",
    "\n",
    "By the end of this exercise hopefully you should look at the wonderful world wide web without fear, comforted by the fact that anything you can see with your human eyes, a computer can see with its computer eyes...\n",
    " \n",
    "### Objectives\n",
    "\n",
    "But more concretely, this homework will teach you (and test you on):\n",
    "\n",
    "* HTTP Requests (and lifecycle)\n",
    "* RESTful APIs\n",
    "    * Authentication (OAuth)\n",
    "    * Pagination\n",
    "    * Rate limiting\n",
    "* JSON vs. HTML (and how to parse each)\n",
    "* HTML traversal (CSS selectors)"
   ]
  },
  {
   "cell_type": "markdown",
   "metadata": {},
   "source": [
    "## Working with APIs\n",
    "\n",
    "Since everyone loves food (presumably), the ultimate end goal of this homework will be to acquire the data to answer some questions and hypotheses about the restaurant scene in Pittsburgh (which we will get to later). We will download __both__ the metadata on restaurants in Pittsburgh from the Yelp API and with this metadata, retrieve the comments/reviews and ratings from users on restaurants.\n",
    "\n",
    "But first things first, let's do the \"hello world\" of making web requests with Python to get a sense for how to programmatically access web pages: an (unauthenticated) HTTP GET to download a web page.\n",
    "\n",
    "---"
   ]
  },
  {
   "cell_type": "markdown",
   "metadata": {},
   "source": [
    "## Q0: Basic HTTP Requests to Get The Content from a URL\n",
    "\n",
    "Fill in the funtion to use `requests` to download and return the raw HTML content of the URL passed in as an argument. As an example try the following NYT article (on Facebook's algorithmic news feed): [http://www.nytimes.com/2016/08/28/magazine/inside-facebooks-totally-insane-unintentionally-gigantic-hyperpartisan-political-media-machine.html](http://www.nytimes.com/2016/08/28/magazine/inside-facebooks-totally-insane-unintentionally-gigantic-hyperpartisan-political-media-machine.html)\n",
    "\n",
    "> Your function should return a tuple of: (`<status_code>`, `<raw_html>`)\n",
    "\n",
    "```python\n",
    ">>> facebook_article = retrieve_html('http://www.nytimes.com/2016/08/28/magazine/inside-facebooks-totally-insane-unintentionally-gigantic-hyperpartisan-political-media-machine.html')\n",
    ">>> print(facebook_article)\n",
    "(200, u'<!DOCTYPE html>\\n<!--[if (gt IE 9)|!(IE)]> <!--> <html lang=\"en\" class=\"no-js section-magazine...')\n",
    "```"
   ]
  },
  {
   "cell_type": "code",
   "execution_count": 3,
   "metadata": {},
   "outputs": [
    {
     "name": "stdout",
     "output_type": "stream",
     "text": [
      "### TESTING retrieve_html: PASSED 2/2\n",
      "###\n",
      "\n"
     ]
    }
   ],
   "source": [
    "def retrieve_html_test(retrieve_html):\n",
    "    status_code, text = retrieve_html(\"http://www.example.com\")\n",
    "    test.equal(status_code, 200)\n",
    "    test.true(\"This domain is established to be used for illustrative examples in documents.\" in text)\n",
    "    # Note that the text hash may change depending on the remote server. Feel free to change the test.\n",
    "\n",
    "@test\n",
    "def retrieve_html(url):\n",
    "    \"\"\"\n",
    "    Return the raw HTML at the specified URL.\n",
    "\n",
    "    Args:\n",
    "        url (string): \n",
    "\n",
    "    Returns:\n",
    "        status_code (integer):\n",
    "        raw_html (string): the raw HTML content of the response, properly encoded according to the HTTP headers.\n",
    "    \"\"\"\n",
    "    response = requests.get(url)     #send the request to the url\n",
    "    status = response.status_code    #get the status code\n",
    "    content = response.text          #get the raw html content\n",
    "    \n",
    "    return status, content\n"
   ]
  },
  {
   "cell_type": "markdown",
   "metadata": {},
   "source": [
    "---\n",
    "\n",
    "Now while this example might have been fun, we haven't yet done anything more than we could with a web browser. To really see the power of programmatically making web requests we will need to interact with a API. For the rest of this homework we will be working with the [Yelp API](https://www.yelp.com/developers/documentation/v3/get_started) and Yelp data (for an extensive data dump see their [Academic Dataset Challenge](https://www.yelp.com/dataset_challenge)). The reasons for using the Yelp API are 3 fold:\n",
    "\n",
    "1. Incredibly rich dataset that combines:\n",
    "    * entity data (users and businesses)\n",
    "    * preferences (i.e. ratings)\n",
    "    * geographic data (business location and check-ins)\n",
    "    * temporal data\n",
    "    * text in the form of reviews\n",
    "    * and even images.\n",
    "2. Well [documented API](https://www.yelp.com/developers/documentation/v3/get_started) with thorough examples.\n",
    "3. Extensive data coverage so that you can find data that you know personally (from your home town/city or account). This will help with understanding and interpreting your results."
   ]
  },
  {
   "cell_type": "markdown",
   "metadata": {},
   "source": [
    "## Authentication\n",
    "\n",
    "To access the Yelp API however we will need to go through a few more steps than we did with the first NYT example. Most large web scale companies use a combination of authentication and rate limiting to control access to their data to ensure that everyone using it abides. The first step (even before we make any request) is to setup a Yelp account if you do not have one and get API credentials."
   ]
  },
  {
   "cell_type": "markdown",
   "metadata": {},
   "source": [
    "## Yelp API Access\n",
    "\n",
    "1. Create a Yelp account (if you do not have one already)\n",
    "2. [Generate API keys](https://www.yelp.com/developers/v3/manage_app) (if you haven't already). You will only need the API Key (not the Client ID or Client Secret) -- more on that later.\n"
   ]
  },
  {
   "cell_type": "markdown",
   "metadata": {},
   "source": [
    "Now that we have our accounts setup we can start making requests! There are various authentication schemes that APIs use, listed here in relative order of complexity:\n",
    "\n",
    "* No authentication\n",
    "* [HTTP basic authentication](https://en.wikipedia.org/wiki/Basic_access_authentication)\n",
    "* Cookie based user login\n",
    "* OAuth (v1.0 & v2.0, see this [post](http://stackoverflow.com/questions/4113934/how-is-oauth-2-different-from-oauth-1) explaining the differences)\n",
    "* API keys\n",
    "* Custom Authentication\n",
    "\n",
    "For the NYT example, since it is a publicly visible page we did not need to authenticate. HTTP basic authentication isn't too common for consumer sites/applications that have the concept of user accounts (like Facebook, LinkedIn, Twitter, etc.) but is simple to setup quickly and you often encounter it on with individual password protected pages/sites. I'm sure you have seen [this](http://i.stack.imgur.com/QnUZW.png) before somewhere.\n",
    "\n",
    "Cookie based user login is what the majority of services use when you login with a browser (i.e. username and password). Once you sign in to a service like Facebook, the response stores a cookie in your browser to remember that you have logged in (HTTP is stateless). Each subsequent request to the same domain (i.e. any page on `facebook.com`) also sends the cookie that contains the authentication information to remind Facebook's servers that you have already logged in.\n",
    "\n",
    "Many REST APIs however use OAuth (authentication using tokens) which can be thought of a programmatic way to \"login\" _another_ user. Using tokens, a user (or application) only needs to send the login credentials once in the initial authentication and as a response from the server gets a special signed token. This signed token is then sent in future requests to the server (in place of the user credentials).\n",
    "\n",
    "A similar concept common used by many APIs is to assign API Keys to each client that needs access to server resources. The client must then pass the API Key along with _every_ request it makes to the API to authenticate. This is because the server is typically relatively stateless and does not maintain a session between subsequent calls from the same client. Most APIs (including Yelp) allow you to pass the API Key via a special HTTP Header: `Authorization: Bearer <API_KEY>`. Check out the [docs](https://www.yelp.com/developers/documentation/v3/authentication) for more information.\n",
    "\n",
    "Yelp used to use OAuth tokens but has now switched to API Keys. **For the sake of backwards compatibility Yelp still provides a Client ID and Secret for OAuth, but you will not need those for this assignment.** \n",
    "\n",
    "---\n"
   ]
  },
  {
   "cell_type": "markdown",
   "metadata": {},
   "source": [
    "## Q1: Authenticated HTTP Request with the Yelp API\n",
    "\n",
    "First, store your Yelp credentials in a local file which you can read in to authenticate with the API. This file can be any format/structure since you will fill in the function stub below.\n",
    "\n",
    "\n",
    "**KEEP THE API KEY FILE PRIVATE AND OUT OF VERSION CONTROL**\n",
    "\n",
    "Using the Yelp API, fill in the following function stub to make an authenticated request to the [search](https://www.yelp.com/developers/documentation/v3/business_search) endpoint.\n",
    "\n",
    "> As a test, search for businesses in Pittsburgh. You should find ~13400 total depending on when you search (but this will actually differ from the number of actual Business objects returned... more on this in the next section)\n",
    "\n",
    "When writing the python request, you'll need to pass in a custom header as well as a parameter. Here are some examples for [response headers](http://docs.python-requests.org/en/master/user/quickstart/#response-headers) and [passing parameters in urls](http://docs.python-requests.org/en/master/user/quickstart/#passing-parameters-in-urls)\n",
    "\n",
    "```python\n",
    ">>> api_key = read_api_key('api_key.txt')\n",
    ">>> num_records, data = yelp_search(api_key, 'Pittsburgh')\n",
    ">>> print(num_records)\n",
    "2900\n",
    ">>> print(list(map(lambda x: x['name'], data)))\n",
    "['Gaucho Parrilla Argentina', 'Randyland', 'Redhawk Coffee', 'Phipps Conservatory and Botanical Gardens', 'La Gourmandine Bakery & Pastry Shop', ...]\n",
    "```"
   ]
  },
  {
   "cell_type": "code",
   "execution_count": 4,
   "metadata": {},
   "outputs": [],
   "source": [
    "def read_api_key(filepath = 'api_key.txt'):\n",
    "    \"\"\"\n",
    "    Read the Yelp API Key from file.\n",
    "    \n",
    "    Args:\n",
    "        filepath (string): File containing API Key\n",
    "    Returns:\n",
    "        api_key (string): The API Key\n",
    "    \"\"\"\n",
    "    \n",
    "    # Feel free to modify this function if you are storing the API Key differently\n",
    "#     filepath = 'C:/Users/shenx/Documents/15688 Data Science/HW1/part2/yelpAPI.txt'\n",
    "    with open(filepath,'r') as f:\n",
    "        apiKey = f.read().replace('\\n','')\n",
    "    \n",
    "    return apiKey"
   ]
  },
  {
   "cell_type": "code",
   "execution_count": 5,
   "metadata": {
    "scrolled": false
   },
   "outputs": [
    {
     "name": "stdout",
     "output_type": "stream",
     "text": [
      "### TESTING yelp_search: PASSED 2/2\n",
      "###\n",
      "\n"
     ]
    }
   ],
   "source": [
    "def yelp_search_test(yelp_search):\n",
    "    total, business = yelp_search(read_api_key(), \"Pittsburgh\")\n",
    "    test.true(abs(total - 2600) < 60)\n",
    "    expected_keys = ['id', 'name', 'phone', 'review_count']\n",
    "    if len(business):\n",
    "        test.true(all(k in set(business[0].keys()) for k in expected_keys))\n",
    "\n",
    "@test\n",
    "def yelp_search(api_key, query):\n",
    "    \"\"\"\n",
    "    Make an authenticated request to the Yelp API.\n",
    "\n",
    "    Args:\n",
    "        query (string): Search term\n",
    "        \n",
    "     Most APIs (including Yelp) allow you to pass the API Key via a special HTTP Header: \n",
    "     Authorization: Bearer <API_KEY>. Check out the docs for more information.\n",
    "\n",
    "    Returns:\n",
    "        total (integer): total number of businesses on Yelp corresponding to the query\n",
    "        businesses (list): list of dicts representing each business\n",
    "    \"\"\"\n",
    "    \n",
    "    #create the api url \n",
    "    url = 'https://api.yelp.com/v3/businesses/search'\n",
    "    \n",
    "    #As the Yelp allows you to pass the API key via a special HTTP header, we need to create a header\n",
    "    #\"Put the access token inside of the request header as \"Authorization: Bearer <YOUR ACCESS TOKEN>\"\n",
    "    #and make requests against the API.\"\n",
    "    header = {\"Authorization\": \"Bearer {}\".format(api_key)}\n",
    "    \n",
    "    #now we need to pass in the query string\n",
    "    response = requests.get(url, headers = header,params = {'location': query})\n",
    "    \n",
    "    #this would return a json file see the example: https://www.yelp.com/developers/documentation/v3/business_search\n",
    "    retJson = response.json() \n",
    "    total= retJson['total']\n",
    "    \n",
    "    #This would return the total numbers of business party in one request\n",
    "    businesses = retJson['businesses']\n",
    "    \n",
    "    return total, businesses\n"
   ]
  },
  {
   "cell_type": "markdown",
   "metadata": {},
   "source": [
    "---\n",
    "\n",
    "Now that we have completed the \"hello world\" of working with the Yelp API, we are ready to really fly! The rest of the exercise will have a bit less direction since there are a variety of ways to retrieve the requested information but you should have all the component knowledge at this point to work with the API. Yelp being a fairly general platform actually has many more business than just restaurants, but by using the flexibility of the API we can ask it to only return the restaurants."
   ]
  },
  {
   "cell_type": "markdown",
   "metadata": {},
   "source": [
    "## Parameterization and Pagination分页\n",
    "每一个网页的每一页的显示数量是有限的，在做request的时候可以传入param来实现pagination来获得足够的数据\n",
    "\n",
    "And before we can get any reviews on restaurants, we need to actually get the metadata on ALL of the restaurants in Pittsburgh. Notice above that while Yelp told us that there are ~13400, the response contained far fewer actual `Business` objects. This is due to pagination and is a safeguard against returning __TOO__ much data in a single request (what would happen if there were 100,000 restaurants?) and can be used in conjuction with _rate limiting_ as well as a way to throttle and protect access to Yelp data.\n",
    "\n",
    "If an API has 1,000,000 records, but only returns 10 records per page and limits you to 5 requests per second... how long will it take to acquire ALL of the records contained in the API?\n",
    "\n",
    "One of the ways that APIs are an improvement over plain web scraping is the ability to make __parameterized__ requests. Just like the Python functions you have been writing have arguments (or parameters) that allow you to customize its behavior/actions (an output) without having to rewrite the function entirely, we can parameterize the queries we make to the Yelp API to filter the results it returns.\n",
    "\n",
    "---"
   ]
  },
  {
   "cell_type": "markdown",
   "metadata": {},
   "source": [
    "## Q2: Aquire all of the restaurants in Pittsburgh (on Yelp)\n",
    "\n",
    "Again using the [API documentation](https://www.yelp.com/developers/documentation/v3/business_search) for the `search` endpoint, fill in the following function to retrieve all of the _Restaurants_ (using categories) for a given query. Again you should use your `read_api_key()` function outside of the `all_restaurants()` stub to read the API Key used for the requests. You will need to account for __pagination__ and __[rate limiting](https://www.yelp.com/developers/faq)__ to:\n",
    "\n",
    "1. Retrieve all of the Business objects (# of business objects should equal `total` in the response). Paginate by querying 20 restaurants each request.\n",
    "2. Pause slightly (at least 200 milliseconds) between subsequent requests so as to not overwhelm the API (and get blocked).  \n",
    "\n",
    "As always with API access, make sure you follow all of the [API's policies](https://www.yelp.com/developers/api_terms) and use the API responsibly and respectfully.\n",
    "\n",
    "**DO NOT MAKE TOO MANY REQUESTS TOO QUICKLY OR YOUR KEY MAY BE BLOCKED**\n",
    "\n",
    "Again, you can test your function with an individual neighborhod in Pittsburgh (I recommend Polish Hill). Pittsburgh itself has a lot of restaurants... meaning it will take a lot of time to download them all.\n",
    "\n",
    "```python\n",
    ">>> data = all_restaurants(api_key, 'Polish Hill, Pittsburgh')\n",
    ">>> print(len(data))\n",
    "315\n",
    ">>> print([x['name'] for x in data])\n",
    "['Lili Cafe', 'Morcilla', 'Umami', 'Piccolo Forno', \"Alfred's Deli & Market\", ...]\n",
    "```"
   ]
  },
  {
   "cell_type": "code",
   "execution_count": 6,
   "metadata": {},
   "outputs": [],
   "source": [
    "def all_restaurants(api_key, query):\n",
    "    \"\"\"\n",
    "    Retrieve ALL the restaurants on Yelp for a given query.\n",
    "\n",
    "    Args:\n",
    "        query (string): Search term\n",
    "\n",
    "    Returns:\n",
    "        results (list): list of dicts representing each business\n",
    "    \"\"\"\n",
    "    \n",
    "    import time\n",
    "    results = []\n",
    "    offset = 0\n",
    "    \n",
    "    #create the api url \n",
    "    url = 'https://api.yelp.com/v3/businesses/search'\n",
    "    header = {\"Authorization\": \"Bearer {}\".format(api_key)}\n",
    "    \n",
    "    #now we need to pass more parameters in following the yelp API instruction\n",
    "    params = {'location':query,\n",
    "             'limit': 20,\n",
    "             'categories': 'restaurants',\n",
    "             'offset': offset}\n",
    "    \n",
    "    #We need the defensive programming, just in case the input query is an invalid location, which returns nothing, and this \n",
    "    #would ruin the whole program \n",
    "    try:                            \n",
    "        #get the response\n",
    "        response = requests.get(url, headers = header,params = params)\n",
    "        response = response.json()\n",
    "\n",
    "        total = response['total']\n",
    "        print(total)\n",
    "        businesses = response['businesses']\n",
    "        results.extend(businesses)\n",
    "        \n",
    "        #defensive programming, if the total numb is not dividable by 20, then we need to upper round it and plus 1\n",
    "        if total % 20 == 0:\n",
    "            numIterations = int(total / 20)\n",
    "        else:\n",
    "            numIterations = int((total // 20) + 1)\n",
    "\n",
    "        for i in range(numIterations):\n",
    "            offset +=20\n",
    "            url = 'https://api.yelp.com/v3/businesses/search'\n",
    "            header = {\"Authorization\": \"Bearer {}\".format(api_key)}\n",
    "            params = {'location':query,\n",
    "                 'limit': 20,\n",
    "                 'categories': 'restaurants',\n",
    "                 'offset': offset}\n",
    "\n",
    "            time.sleep(200/1000)\n",
    "            response = requests.get(url, headers = header, params = params)\n",
    "            response = response.json()\n",
    "\n",
    "            businesses = response['businesses']\n",
    "            results.extend(businesses)\n",
    "\n",
    "        return results\n",
    "    except:\n",
    "        return results\n",
    "# ans = all_restaurants(read_api_key(), 'Pollish Hill')\n",
    "# print(len(ans))"
   ]
  },
  {
   "cell_type": "markdown",
   "metadata": {},
   "source": [
    "---\n",
    "\n",
    "Now that we have the metadata on all of the restaurants in Pittsburgh (or at least the ones listed on Yelp), we can retrieve the reviews and ratings. The Yelp API gives us aggregate information on ratings but it doesn't give us the review text or individual users' ratings for a restaurant. For that we need to turn to web scraping, but to find out what pages to scrape we first need to parse our JSON from the API to extract the URLs of the restaurants.\n",
    "\n",
    "In general, it is a best practice to seperate the act of __downloading__ data and __parsing__ data. This ensures that your data processing pipeline is modular and extensible (and autogradable ;). This decoupling also solves the problem of expensive downloading but cheap parsing (in terms of computation and time)."
   ]
  },
  {
   "cell_type": "markdown",
   "metadata": {},
   "source": [
    "---"
   ]
  },
  {
   "cell_type": "markdown",
   "metadata": {},
   "source": [
    "## Q 2.5: Parse the API Responses and Extract the URLs\n",
    "\n",
    "Because we want to seperate the __downloading__ from the __parsing__, fill in the following function to parse the URLs pointing to the restaurants on `yelp.com`. As input your function should expect a string of [properly formatted JSON](http://www.json.org/) (which is similar to __BUT__ not the same as a Python dictionary) and as output should return a Python list of strings. The input JSON will be structured as follows (same as the [sample](https://www.yelp.com/developers/documentation/v3/business_search) on the Yelp API page):"
   ]
  },
  {
   "cell_type": "code",
   "execution_count": 7,
   "metadata": {},
   "outputs": [],
   "source": [
    "json_src = \"\"\"{\n",
    "  \"total\": 8228,\n",
    "  \"businesses\": [\n",
    "    {\n",
    "      \"rating\": 4,\n",
    "      \"price\": \"$\",\n",
    "      \"phone\": \"+14152520800\",\n",
    "      \"id\": \"four-barrel-coffee-san-francisco\",\n",
    "      \"is_closed\": false,\n",
    "      \"categories\": [\n",
    "        {\n",
    "          \"alias\": \"coffee\",\n",
    "          \"title\": \"Coffee & Tea\"\n",
    "        }\n",
    "      ],\n",
    "      \"review_count\": 1738,\n",
    "      \"name\": \"Four Barrel Coffee\",\n",
    "      \"url\": \"https://www.yelp.com/biz/four-barrel-coffee-san-francisco\",\n",
    "      \"coordinates\": {\n",
    "        \"latitude\": 37.7670169511878,\n",
    "        \"longitude\": -122.42184275\n",
    "      },\n",
    "      \"image_url\": \"http://s3-media2.fl.yelpcdn.com/bphoto/MmgtASP3l_t4tPCL1iAsCg/o.jpg\",\n",
    "      \"location\": {\n",
    "        \"city\": \"San Francisco\",\n",
    "        \"country\": \"US\",\n",
    "        \"address2\": \"\",\n",
    "        \"address3\": \"\",\n",
    "        \"state\": \"CA\",\n",
    "        \"address1\": \"375 Valencia St\",\n",
    "        \"zip_code\": \"94103\"\n",
    "      },\n",
    "      \"distance\": 1604.23,\n",
    "      \"transactions\": [\"pickup\", \"delivery\"]\n",
    "    }\n",
    "  ],\n",
    "  \"region\": {\n",
    "    \"center\": {\n",
    "      \"latitude\": 37.767413217936834,\n",
    "      \"longitude\": -122.42820739746094\n",
    "    }\n",
    "  }\n",
    "}\n",
    "\"\"\""
   ]
  },
  {
   "cell_type": "code",
   "execution_count": 8,
   "metadata": {},
   "outputs": [
    {
     "name": "stdout",
     "output_type": "stream",
     "text": [
      "['https://www.yelp.com/biz/four-barrel-coffee-san-francisco']\n",
      "### TESTING parse_api_response: PASSED 1/1\n",
      "###\n",
      "\n"
     ]
    }
   ],
   "source": [
    "def parse_api_response_test(parse_api_response):\n",
    "    test.equal(parse_api_response(json_src), ['https://www.yelp.com/biz/four-barrel-coffee-san-francisco'])\n",
    "\n",
    "@test\n",
    "def parse_api_response(data):\n",
    "    \"\"\"\n",
    "    Parse Yelp API results to extract restaurant URLs.\n",
    "    \n",
    "    Args:\n",
    "        data (string): String of properly formatted JSON.\n",
    "\n",
    "    Returns:\n",
    "        (list): list of URLs as strings from the input JSON.\n",
    "    \"\"\"\n",
    "    jsonDict = json.loads(data)          #converts the string into a dictionary\n",
    "    result=[]\n",
    "    for subDict in jsonDict['businesses']:\n",
    "        result.append(subDict['url'])\n",
    "    print(result)\n",
    "    return result"
   ]
  },
  {
   "cell_type": "markdown",
   "metadata": {},
   "source": [
    "---\n",
    "\n",
    "As we can see, JSON is quite trivial to parse (which is not the case with HTML as we will see in a second) and work with programmatically. This is why it is one of the most ubiquitous data serialization formats (especially for RESTful APIs) and a huge benefit of working with a well defined API if one exists. But APIs do not always exists or provide the data we might need, and as a last resort we can always scrape web pages..."
   ]
  },
  {
   "cell_type": "markdown",
   "metadata": {},
   "source": [
    "## Working with Web Pages (and HTML)\n",
    "\n",
    "Think of APIs as similar to accessing a application's database itself (something you can interactively query and receive structured data back). But the results are usually in a somewhat raw form with no formatting or visual representation (like the results from a database query). This is a benefit _AND_ a drawback depending on the end use case. For data science and _programatic_ analysis this raw form is quite ideal, but for an end user requesting information from a _graphical interface_ (like a web browser) this is very far from ideal since it takes some cognitive overhead to interpret the raw information. And vice versa, if we have HTML it is quite easy for a human to visually interpret it, but to try to perform some type of programmatic analysis we first need to parse the HTML into a more structured form.\n",
    "\n",
    "As a general rule of thumb, if the data you need can be accessed or retrieved in a structured form (either from a bulk download or API) prefer that first. But if the data you want (and need) is not as in our case we need to resort to alternative (messier) means.\n",
    "\n",
    "Going back to the \"hello world\" example of question 1 with the NYT, we will do something similar to retrieve the HTML of the Yelp site itself (rather than going through the API) programmatically as text. \n",
    "\n",
    "---"
   ]
  },
  {
   "cell_type": "markdown",
   "metadata": {},
   "source": [
    "## Q3: Parse a Yelp restaurant Page\n",
    "\n",
    "Using `BeautifulSoup`, parse the HTML of a single Yelp restaurant page to extract the reviews in a structured form as well as the total number of pages. Fill in following function stubs to parse a single page of reviews and return:\n",
    "* the reviews as a structured Python dictionary\n",
    "* the total number of pages of reviews.\n",
    "\n",
    "For each review be sure to structure your Python dictionary as follows (to be graded correctly). The order of the keys doesn't matter, only the keys and the data type of the values:\n",
    "\n",
    "```python\n",
    "{\n",
    "    'author': 'Aaron W.' # str\n",
    "    'rating': 4.0        # float\n",
    "    'date': '2019-01-03' # str, yyyy-mm-dd\n",
    "    'description': \"Wonderful!\" # str\n",
    "}\n",
    "```\n",
    "\n",
    "Return reviews in the order that they are present on the page.\n",
    "\n",
    "There can be issues with Beautiful Soup using various parsers, for maximum conpatibility (and fewest errors) initialize the library with the default (and Python standard library parser): `BeautifulSoup(markup, \"html.parser\")`. You may notice that the HTML is automatically generated. Yelp uses a modern web application technology called [React](https://reactjs.org/), which generates the markup from Javascript code. This is a common hazard of scraping data from HTML.\n",
    "\n",
    "Here's a hint for this problem: [`aria`](https://www.w3.org/WAI/PF/aria-1.1/terms) is a web standard that supports text-to-speech and other accessibility technologies, and `aria-*` properties are often used to tag elements that have some semantic meaning. They are (1) generally assigned by humans and (2) attached to user-identifiable features of the website and not nodes used for structure and wrapping."
   ]
  },
  {
   "cell_type": "code",
   "execution_count": 9,
   "metadata": {
    "scrolled": true
   },
   "outputs": [],
   "source": [
    "_,html = retrieve_html(\"https://www.yelp.com/biz/the-porch-at-schenley-pittsburgh\")\n",
    "soup = BeautifulSoup(html, 'html.parser')\n",
    "#print(soup.prettify())"
   ]
  },
  {
   "cell_type": "code",
   "execution_count": 10,
   "metadata": {
    "scrolled": true
   },
   "outputs": [],
   "source": [
    "# print(len(ratingContent))\n",
    "# print(len(dateContent))\n",
    "# print(len(authorContent))\n",
    "# print(len(descriptionContent))\n",
    "# ratingContent[0].get('content')\n",
    "allContent = soup.find('script', type= \"application/ld+json\")\n",
    "trystuff = soup.find('span',string = re.compile('Page'),attrs={'class': \"lemon--span__373c0__3997G text__373c0__2pB8f text-color--normal__373c0__K_MKN text-align--left__373c0__2pnx_\"})"
   ]
  },
  {
   "cell_type": "code",
   "execution_count": 11,
   "metadata": {},
   "outputs": [
    {
     "data": {
      "text/plain": [
       "(<span class=\"lemon--span__373c0__3997G text__373c0__2pB8f text-color--normal__373c0__K_MKN text-align--left__373c0__2pnx_\">Page 1 of 33</span>,\n",
       " 'Page 1 of 33')"
      ]
     },
     "execution_count": 11,
     "metadata": {},
     "output_type": "execute_result"
    }
   ],
   "source": [
    "trystuff, trystuff.text"
   ]
  },
  {
   "cell_type": "code",
   "execution_count": 12,
   "metadata": {},
   "outputs": [
    {
     "data": {
      "text/plain": [
       "'33'"
      ]
     },
     "execution_count": 12,
     "metadata": {},
     "output_type": "execute_result"
    }
   ],
   "source": [
    "trystuff.text.index('f')\n",
    "trystuff.text[10:]"
   ]
  },
  {
   "cell_type": "code",
   "execution_count": 13,
   "metadata": {},
   "outputs": [
    {
     "data": {
      "text/plain": [
       "['ratingValue']"
      ]
     },
     "execution_count": 13,
     "metadata": {},
     "output_type": "execute_result"
    }
   ],
   "source": [
    "contentDict = json.loads(allContent.text)\n",
    "allKeys = list(contentDict['review'][0]['reviewRating'].keys())\n",
    "allKeys"
   ]
  },
  {
   "cell_type": "code",
   "execution_count": 14,
   "metadata": {},
   "outputs": [
    {
     "name": "stdout",
     "output_type": "stream",
     "text": [
      "{'author': 'Tabitha C.', 'date': '2019-08-12', 'description': \"My friend and I stopped here for brunch on Sunday yesterday 8/11/19 and it was my first time here. I would say the only cons that we experienced were that it can be difficult to find parking and our waitress wasn't very attentive to our table (however I wouldn't penalize a rating for one person). They also ran out of almond milk so that sort of stunk for the drinks we initially wanted.\\n\\nWe sat outside and were seated right away, just beat the rush as it soon became busy. We were very hungry: ordered the cinnamon roll as an appetizer to split, the breakfast pizza to split, the eggs benedict with shrimp, and the burrito (mostly pictured in my added photos to this review). They were all quite delicious however the portions are pretty large for me and we had a lot of leftovers. The pizza wasn't my favorite but it was different. The burrito I ate the other half for breakfast the next day (today!).\\n\\nI didn't take a photo of the menu, regrettably, but I thought it was sort of limited for breakfast/lunch however the restaurant isn't all that big either so it is expected. I really like the location despite the parking issue as you're in the center of Pitt's campus and it is just a beautiful location to sit outside and get a nice view of Oakland/enjoy the outdoor area. I would go again to try more options! The prices are reasonable and everyone there seemed pleasant.\", 'rating': 4.0}\n",
      "### TESTING parse_page: PASSED 5/6\n",
      "# 5\t: Failed: 33 is not equal to 32\n",
      "###\n",
      "\n"
     ]
    }
   ],
   "source": [
    "# You do not need to use regular expressions in this solution. This is only for testing.\n",
    "import re\n",
    "import datetime\n",
    "def reviews_check(reviews):\n",
    "    type_check = lambda field, typ: all(field in r and typ(r[field]) for r in reviews)\n",
    "    test.true(type_check(\"author\", lambda r: isinstance(r, str)))\n",
    "    test.true(type_check(\"rating\", lambda r: isinstance(r, float)))\n",
    "\n",
    "    datecheck = re.compile(\"^\\d{4}-\\d{2}-\\d{2}$\")\n",
    "    test.true(type_check(\"date\", lambda r: datecheck.match(r)))\n",
    "    test.true(type_check(\"description\", lambda r: isinstance(r, str)))\n",
    "\n",
    "def parse_page_test(parse_page):\n",
    "    reviews, num_pages = parse_page(retrieve_html(\"https://www.yelp.com/biz/the-porch-at-schenley-pittsburgh\")[1])\n",
    "    reviews_check(reviews)\n",
    "    test.equal(len(reviews), 20)\n",
    "    test.equal(num_pages, 32)\n",
    "\n",
    "@test\n",
    "def parse_page(html):\n",
    "    \"\"\"\n",
    "    Parse the reviews on a single page of a restaurant.\n",
    "    \n",
    "    Args:\n",
    "        html (string): String of HTML corresponding to a Yelp restaurant\n",
    "\n",
    "    Returns:\n",
    "        tuple(list, string): a tuple of two elements\n",
    "            first element: list of dictionaries corresponding to the extracted review information\n",
    "            second element: Number of pages total.\n",
    "    \"\"\"\n",
    "    \n",
    "    '''{\n",
    "    'author': 'Aaron W.' # str\n",
    "    'rating': 4.0        # float\n",
    "    'date': '2019-01-03' # str, yyyy-mm-dd\n",
    "    'description': \"Wonderful!\" # str\n",
    "     }'''\n",
    "    #parse the html content to bs4\n",
    "    soup = BeautifulSoup(html,'html.parser') \n",
    "#     ratingContent=soup.find_all('meta', itemprop =\"ratingValue\")\n",
    "#     dateContent=soup.find_all('meta', itemprop=\"datePublished\")\n",
    "#     authorContent = soup.find_all('meta', itemprop = \"author\")\n",
    "#     descriptionContent=soup.find_all('p',itemprop = \"description\")\n",
    "    \n",
    "#     print(len(ratingContent))\n",
    "#     print(len(dateContent))\n",
    "#     print(len(authorContent))\n",
    "#     print(len(descriptionContent))\n",
    "#     ratingContent[0].get('content')\n",
    "    \n",
    "    #by reading the content, we could find one content containing all the info needed\n",
    "    allContent =soup.find('script', type= \"application/ld+json\") #get the script tag with a type specified\n",
    "    contentDict =json.loads(allContent.text)\n",
    "    allReviewDict = contentDict['review']\n",
    "    \n",
    "    firstElement = []\n",
    "    for review in allReviewDict:\n",
    "        elementDict={}\n",
    "        elementDict['author'] = review['author']\n",
    "        elementDict['date'] = review['datePublished']\n",
    "        elementDict['description'] = review['description']\n",
    "        elementDict['rating'] = float(review['reviewRating']['ratingValue'])\n",
    "        \n",
    "        firstElement.append(elementDict)\n",
    "#     print(firstElement[0])\n",
    "    \n",
    "    \n",
    "    #find the numbers of pages in total\n",
    "    '''HREF\n",
    "      (Hypertext REFerence) The HTML code used to create a link to another page'''\n",
    "    #<link href=\"https://www.yelp.com/biz/the-porch-at-schenley-pittsburgh?start=20\" rel=\"next\">\n",
    "    pageInfo = soup.find('span',string = re.compile('Page'),\n",
    "                         attrs={'class': \"lemon--span__373c0__3997G text__373c0__2pB8f text-color--normal__373c0__K_MKN text-align--left__373c0__2pnx_\"})\n",
    "    #<span class=\"lemon--span__373c0__3997G text__373c0__2pB8f text-color--normal__373c0__K_MKN text-align--left__373c0__2pnx_\">Page 1 of 32</span>\n",
    "    pageInfo = pageInfo.text             #'Page 1 of 32\n",
    "    whereIndex = pageInfo.index('f') + 2 #find where f is and plus 2 to find where the digit start\n",
    "    counts = int(pageInfo[whereIndex:])\n",
    "    \n",
    "    return firstElement, counts\n"
   ]
  },
  {
   "cell_type": "markdown",
   "metadata": {},
   "source": [
    "---\n",
    "\n",
    "## Q 3.5: Extract all of the Yelp reviews for a Single Restaurant\n",
    "\n",
    "So now that we have parsed a single page, and figured out a method to go from one page to the next we are ready to combine these two techniques and actually crawl through web pages! \n",
    "\n",
    "Using `requests`, programmatically retrieve __ALL__ of the reviews for a __single__ restaurant (provided as a parameter). Just like the API was paginated, the HTML paginates its reviews (it would be a very long web page to show 300 reviews on a single page) and to get all the reviews you will need to parse and traverse the HTML. As input your function will receive a URL corresponding to a Yelp restaurant. As output return a list of dictionaries (structured the same as question 3 containing the relevant information from the reviews.\n",
    "\n",
    "Return reviews in the order that they are present on the page.\n",
    "\n",
    "You will need to get the number of pages on the first request and generate the URL for subsequent pages automatically. Use the Yelp website to see how the URL changes for subsequent pages."
   ]
  },
  {
   "cell_type": "code",
   "execution_count": 20,
   "metadata": {},
   "outputs": [
    {
     "name": "stdout",
     "output_type": "stream",
     "text": [
      "{'author': 'Jay C.', 'date': '2018-04-06', 'description': \"Not bad.  It's basic pizza, folks.  Just what I wanted.  Can't do the heavy toppings.  This was perfect.\\n3 stars for the food.  1 extra star because I got my order in a half an hour and the price with tip was under 20 bucks.  That's a winner in my book. \\nThey have a big menu to choose from, so I will try them again soon.\", 'rating': 4.0}\n",
      "{'author': 'Kaleb A.', 'date': '2015-02-15', 'description': \"$1.75 slices all day everyday. Not Antoons or Sorrentos size. Actual slices\\n\\nThe best slice you'll get in Oakland.  Not the best pizza ever, but if you're looking for something other than a $5 pizza after a night of drinking, Larry and Carol's is a great option.  Newly renovated and now there's a lot more space.  \\n\\nOnly minuses of L&C are the street isn't the cleanest and can get creepy after dark and the staff can sometimes clutter the place and make patrons feel very uncomfortable.\", 'rating': 4.0}\n",
      "{'author': 'Rachelle G.', 'date': '2009-01-01', 'description': \"I used to look forward to getting wedgies from here.  It used to be on my must get list anytime I was in Pitts.  In any case, we ended up ordering 2 steak wedgies to go over the phone.  We get there and they had made the wrong items and gave us hoagies instead.  Had we not been in a time crunch, it wouldn't have bothered me but really, don't make it seem like it's our fault!\\n\\nIt was good, but not as great as I had once imagined.  Basically a wedgie is similar to a calzone but think of it as a sandwich enclosed in pizza dough and then you eat it with italian dressing.\\n\\nPretty much a pick up and go type of joint, no tables inside.\", 'rating': 3.0}\n",
      "46\n",
      "### TESTING extract_reviews: PASSED 4/5\n",
      "# 0\t: Failed: 46 is not equal to 47\n",
      "###\n",
      "\n"
     ]
    }
   ],
   "source": [
    "def extract_reviews_test(extract_reviews):\n",
    "    reviews = extract_reviews(\"https://www.yelp.com/biz/larry-and-carols-pizza-pittsburgh\")\n",
    "    test.equal(len(reviews), 47) # This may change!\n",
    "    reviews_check(reviews)\n",
    "\n",
    "@test\n",
    "def extract_reviews(url):\n",
    "    \"\"\"\n",
    "    Retrieve ALL of the reviews for a single restaurant on Yelp.\n",
    "\n",
    "    Parameters:\n",
    "        url (string): Yelp URL corresponding to the restaurant of interest.\n",
    "\n",
    "    Returns:\n",
    "        reviews (list): list of dictionaries containing extracted review information\n",
    "    \"\"\"\n",
    "    \n",
    "    #first we need to read the url\n",
    "    _,html = retrieve_html(url)\n",
    "    \n",
    "    reviewContent,counts = parse_page(html)\n",
    "    \n",
    "    reviewsList = []\n",
    "    reviewsList +=reviewContent\n",
    "    \n",
    "    for (count) in range(1,counts):\n",
    "        newurl = url + \"?start={}\".format(20 * count)\n",
    "        _,html = retrieve_html(newurl)\n",
    "        time.sleep(200/1000)\n",
    "        reviewContent,counts = parse_page(html)\n",
    "        reviewsList += reviewContent\n",
    "    \n",
    "    print(len(reviewsList))\n",
    "        \n",
    "    return  reviewsList\n"
   ]
  },
  {
   "cell_type": "code",
   "execution_count": null,
   "metadata": {},
   "outputs": [],
   "source": []
  },
  {
   "cell_type": "code",
   "execution_count": null,
   "metadata": {},
   "outputs": [],
   "source": []
  }
 ],
 "metadata": {
  "anaconda-cloud": {},
  "kernelspec": {
   "display_name": "Python 3",
   "language": "python",
   "name": "python3"
  },
  "language_info": {
   "codemirror_mode": {
    "name": "ipython",
    "version": 3
   },
   "file_extension": ".py",
   "mimetype": "text/x-python",
   "name": "python",
   "nbconvert_exporter": "python",
   "pygments_lexer": "ipython3",
   "version": "3.7.3"
  }
 },
 "nbformat": 4,
 "nbformat_minor": 1
}
