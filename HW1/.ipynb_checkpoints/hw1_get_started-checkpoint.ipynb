{
 "cells": [
  {
   "cell_type": "markdown",
   "metadata": {},
   "source": [
    "# Getting started (20 pts)\n",
    "\n",
    "To get used to the submission of Jupyter notebooks, fill in the following function signatures according to their specifications. Upon finishing this section, submit your notebook to Autolab and you can view your grade. We are not looking for complicated solutions."
   ]
  },
  {
   "cell_type": "code",
   "execution_count": null,
   "metadata": {
    "collapsed": true
   },
   "outputs": [],
   "source": [
    "from testing.testing import test\n",
    "\n",
    "# rotate(l,n) takes a list l and an integer n, and returns a new list with the first n elements moved to the end.\n",
    "# Assume 0 <= n < len(l)\n",
    "def rotate_list_test(rotate_list):\n",
    "    test.equal(rotate_list([1,2,3,4], 0), [1,2,3,4])\n",
    "    test.equal(rotate_list([1,2,3,4], 1), [2,3,4,1])\n",
    "    test.equal(rotate_list([1,2,3,4], 2), [3,4,1,2])\n",
    "    test.equal(rotate_list([1,2,3,4], 3), [4,1,2,3])   \n",
    "\n",
    "@test\n",
    "def rotate_list(l, n):\n",
    "    return []\n",
    "\n",
    "# reverse_dict(d) takes a dictionary d, and returns a new dictionary with the keys and values swapped.\n",
    "# Assume all values of the given dictionary are unique, i.e. don't worry about conflicting keys. \n",
    "def reverse_dict_test(reverse_dict):\n",
    "    test.equal(reverse_dict({\"apple\" : \"red\", \"banana\" : \"yellow\"}), {\"red\" : \"apple\", \"yellow\" : \"banana\"})\n",
    "\n",
    "@test\n",
    "def reverse_dict(d):\n",
    "    return {}"
   ]
  },
  {
   "cell_type": "markdown",
   "metadata": {},
   "source": [
    "## Testing\n",
    "\n",
    "We provide some tests for you in the previous section. These are provided to get you started with testing your code. The key to doing well is to test your code thoroughly: feel free to add additional tests.\n",
    "\n",
    "Your score is determined by a more extensive set of tests we run privately. Passing all the tests we provide here is **not enough** to guarantee a good score on the assignment.\n",
    "\n",
    "Our test runner is similar to nose: whenever the interpreter reaches a function (with name `foo`) decorated with `@test`, it looks for `foo_test` in the enclosing scope. `foo_test` is called with `foo` as an argument. The test runner captures the results of `test.equal` calls within each test function and reports individual results.\n",
    "\n",
    "As practice, define some tests for this function:"
   ]
  },
  {
   "cell_type": "code",
   "execution_count": null,
   "metadata": {
    "collapsed": true
   },
   "outputs": [],
   "source": [
    "def successor(n):\n",
    "    return n + 1"
   ]
  }
 ],
 "metadata": {
  "anaconda-cloud": {},
  "kernelspec": {
   "display_name": "Python 3",
   "language": "python",
   "name": "python3"
  },
  "language_info": {
   "codemirror_mode": {
    "name": "ipython",
    "version": 3
   },
   "file_extension": ".py",
   "mimetype": "text/x-python",
   "name": "python",
   "nbconvert_exporter": "python",
   "pygments_lexer": "ipython3",
   "version": "3.6.3"
  }
 },
 "nbformat": 4,
 "nbformat_minor": 1
}
