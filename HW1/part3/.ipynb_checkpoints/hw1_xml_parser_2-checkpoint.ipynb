{
 "cells": [
  {
   "cell_type": "markdown",
   "metadata": {},
   "source": [
    "## Introduction\n",
    "\n",
    "In this problem, you're going to write a function that will parse (a simplified version of) XML files into a Python object. Although it's not recommended that you use the parser you construct for anything serious (many excellent Python libraries already exist for parsing XML, such as the lxml library), XML files represent a fairly complex file format, that necessitates using regular expressions and recursion (or a stack) to parse these in a reasonably efficient manner.  So while it's not likely that you will need to write you own XML parser, chances are if/when you _do_ need to write a parser for some format for which there exists no good Python library, the techniques you use here will be useful for writing this parser as well."
   ]
  },
  {
   "cell_type": "markdown",
   "metadata": {},
   "source": [
    "## XML\n",
    "\n",
    "XML stands for the eXtensible Markup Language.  It appeared as a successor to SGML (standard generalized markup language) and HTML (hypertext markup language, the standard for displaying web pages), but with some additional structure that makes the documents more well-defined; for instance, in HTML it's common for open tags to appear without a corresponding close tag, which is not allowed in pure XML.\n",
    "\n",
    "You may already be familiar with XML, but if not the official resource for learning about the format is here https://www.w3.org/XML/ and a good resource with some concrete examples is here http://www.w3schools.com/xml/.  We'll assume here that you're broadly familiar with the basic ideas behind XML, and just describe what you need to know to complete the parser for this assignment.\n",
    "\n",
    "Here is an example XML document:\n",
    "    \n",
    "    <?xml version=\"1.0\" encoding=\"UTF-8\"?>\n",
    "    <!-- This is a comment -->\n",
    "    <note date=\"8/31/12\">\n",
    "        <to>Tove</to>\n",
    "        <from>Jani</from>\n",
    "        <heading type=\"Reminder\"/>\n",
    "        <body>Don't forget me this weekend!</body>\n",
    "        <!-- This is a multiline comment,\n",
    "             which take a bit of care to parse -->\n",
    "    </note>\n",
    "    \n",
    "There are a few elements here of importance.\n",
    "1. Tags are denoted `<tag_name>content</tag_name>` where `<tag_name>` is the opening tag and `</tag_name>` is the closing tag.  All text (including whitespace) between these tags is the content.\n",
    "2. Attributes follow a tag, and are written as a list of `attr_name=\"attribute_value\"` pairs, where we can use either double quotes or single quotes around the attribute value.  If you use double quotes then a single quote can appear in the text and vice versa.  There can be whitespace around the equals sign or not.\n",
    "3. If a tag has no content `<tag_name attr_name=\"attribute_value\"></tag_name>` can be abbreviated as the open/close tag `<tag_name attr_name=\"attribute_value\"/>`. In some cases, such as in HTML5, you might come across tags that have no content but aren't closed, such as `<meta ...>` and `<link ...>` tags. **However, as we are dealing with XML (a stricter context), tags are required to be closed.** If you're interested, [this document](https://www.w3schools.com/html/html_xhtml.asp) on XHTML vs HTML touches upon this idea.\n",
    "4. A XML prologue is written as `<?tag_name attr_name=\"attribute_value\"?>`.  It has no close tag.  We'll also consider documents that allow for an HTML declaration, such as `<!DOCTYPE html>` (this will let us parse some HTML documents that are well-formed enough to also parse as valid XML).\n",
    "5. Comments are denoted by `<!-- comment_text -->`  and the comment text can span multiple lines."
   ]
  },
  {
   "cell_type": "markdown",
   "metadata": {},
   "source": [
    "## Q1: Regular expression for identifying tags\n",
    "\n",
    "First, we'll use regular expressions to identify tags and other elements of XML files.  Specifically, you'll need to create 6 regular expressions that locate open tags, close tags, open/close tags, comments, xml_prolog, and html declarations.  For the open, close and open/close tags, make sure that your regular expression also matches and returns 1) the tag name, and 2) all the attributes.  Note that in our implementation, we actually have the open tag _also_ match open/close tags, but you are free to do this either way (they can match or not).  Comments may be split across multiple lines, but you can assume that all other tags must occur on a single line (without newlines within the tag itself)."
   ]
  },
  {
   "cell_type": "code",
   "execution_count": null,
   "metadata": {
    "collapsed": true
   },
   "outputs": [],
   "source": [
    "import re\n",
    "import requests\n",
    "from testing.testing import test"
   ]
  },
  {
   "cell_type": "code",
   "execution_count": null,
   "metadata": {
    "collapsed": true
   },
   "outputs": [],
   "source": [
    "tag_open = re.compile(\"\")\n",
    "tag_close = re.compile(\"\")\n",
    "tag_open_close = re.compile(\"\")\n",
    "\n",
    "comment = re.compile(\"\")\n",
    "xml_prolog = re.compile(\"\")\n",
    "html_declaration = re.compile(\"\")\n",
    "\n",
    "test_snippet = \"\"\"<?xml version=\"1.0\" encoding=\"UTF-8\"?>\n",
    "<!DOCTYPE xml> <!-- not actually valid xml-->\n",
    "<!-- This is a comment -->\n",
    "<note date=\"8/31/12\">\n",
    "    <to>Tove</to>\n",
    "    <from>Jani</from>\n",
    "    <heading type=\"Reminder\"/>\n",
    "    <body>Don't forget me this weekend!</body>\n",
    "    <!-- This is a multiline comment,\n",
    "         which take a bit of care to parse -->\n",
    "</note>\n",
    "\"\"\"\n",
    "\n",
    "course_webpage = str(requests.get(\"http://www.datasciencecourse.org/\").content)\n",
    "\n",
    "def get_tags_test(get_tags):\n",
    "    # Test snippet:\n",
    "    test_val = get_tags(test_snippet)\n",
    "    test.equal(test_val['tag_open'], [('note', ' date=\"8/31/12\"'), ('to', ''), ('from', ''), ('heading', ' type=\"Reminder\"/'), ('body', '')])\n",
    "    test.equal(test_val['tag_close'], [('to', ''), ('from', ''), ('body', ''), ('note', '')])\n",
    "    test.equal(test_val['tag_open_close'], [('heading', ' type=\"Reminder\"')])\n",
    "    test.equal(test_val['comment'], [' not actually valid xml', ' This is a comment ', ' This is a multiline comment,\\n         which take a bit of care to parse '])\n",
    "    test.equal(test_val['xml_prolog'], ['xml version=\"1.0\" encoding=\"UTF-8\"'])\n",
    "    test.equal(test_val['html_declaration'], ['DOCTYPE xml'])\n",
    "\n",
    "    # Test course webpage:\n",
    "    test_val = get_tags(course_webpage)\n",
    "    test.equal(len(test_val['tag_open']), 126)\n",
    "    test.equal(len(test_val['tag_close']), 102)\n",
    "    test.equal(len(test_val['tag_open_close']), 24)\n",
    "    test.equal(len(test_val['comment']), 4)\n",
    "    test.equal(len(test_val['xml_prolog']), 0)\n",
    "    test.equal(len(test_val['html_declaration']), 1)"
   ]
  },
  {
   "cell_type": "code",
   "execution_count": null,
   "metadata": {
    "collapsed": true
   },
   "outputs": [],
   "source": [
    "@test\n",
    "def get_tags(inp):\n",
    "    return {\n",
    "        \"tag_open\": tag_open.findall(inp),\n",
    "        \"tag_close\": tag_close.findall(inp),\n",
    "        \"tag_open_close\": tag_open_close.findall(inp),\n",
    "        \"comment\": comment.findall(inp),\n",
    "        \"xml_prolog\": xml_prolog.findall(inp),\n",
    "        \"html_declaration\": html_declaration.findall(inp)\n",
    "    }"
   ]
  },
  {
   "cell_type": "markdown",
   "metadata": {},
   "source": [
    "(Note that although there is only one html declaration in the course webpage, there is a field _within_ a comment that looks suspiciously like a declaration, so you can pick up both of these)."
   ]
  },
  {
   "cell_type": "markdown",
   "metadata": {},
   "source": [
    "## Q2: XML Parser\n",
    "\n",
    "Using the regular expressions above, now you'll write an XML parser (although technically you don't _have_ to use them, you could try to write a complete XML parser using a single regular extended expression if you really want to, but we would highly advise against this).  Specifically, you should fill in the `__init__` function for the class prototype below.\n",
    "\n",
    "We've provided you with some test cases to make sure that your parser works correctly."
   ]
  },
  {
   "cell_type": "code",
   "execution_count": null,
   "metadata": {
    "collapsed": true
   },
   "outputs": [],
   "source": [
    "class XMLNode:\n",
    "    @staticmethod\n",
    "    def fromString(s):\n",
    "        return XMLNode(\"\", {}, s)\n",
    "    \n",
    "    attr_double_quote =  re.compile('\\s*([^=]+)\\s*=\\s*\"([^\"]*)\"\\s*')\n",
    "    attr_single_quote =  re.compile(\"\\s*([^=]+)\\s*=\\s*'([^']*)'\\s*\")\n",
    "\n",
    "    def __eq__(self, o):\n",
    "        if (self.tag != o.tag) or (self.attributes != o.attributes):\n",
    "            return False\n",
    "        return all(a == b for a, b in zip(self.children, o.children))\n",
    "\n",
    "    def __getitem__(self, i):\n",
    "        return self.children[i]\n",
    "    \n",
    "    def __str__(self):\n",
    "        rv = \"\".join(str(c) for c in self.children)\n",
    "        if self.tag:\n",
    "            attribute_string = (\" \" + \" \".join(f'{k}=\\\"{v}\\\"' for k, v in self.attributes.items())).rstrip()\n",
    "            if self.children:\n",
    "                return f\"<{self.tag}{attribute_string}>{rv}</{self.tag}>\"\n",
    "            return f\"<{self.tag}{attribute_string} />\"\n",
    "        return rv\n",
    "\n",
    "    def __repr__(self):\n",
    "        return self.__str__()\n",
    "\n",
    "    def count_tags(self):\n",
    "        return (1 if self.tag else 0) + sum(c.count_tags() if isinstance(c, XMLNode) else 0 for c in self.children)\n",
    "\n",
    "    def create_child(self, *a, **kw):\n",
    "        return XMLNode(*a, **kw)\n",
    "    \n",
    "    def __init__(self, tag, attributes, content):\n",
    "        self.tag = tag # The tag <tag>\n",
    "        self.attributes = attributes # A dictionary from attributes to values\n",
    "        self.children = [] # A list of either XMLNode objects and strings, corresponding to tags and text between them.\n",
    "        self.content = content # A string of everything in the original document inside these tags\n",
    "\n",
    "        pass # IMPLEMENT THIS\n",
    "\n",
    "def xml_node_test(xml_node):\n",
    "    # Test snippet:\n",
    "    test_val = xml_node('<?xml version=\"1.0\" encoding=\"UTF-8\"?>')\n",
    "    test.equal(str(test_val), '') # This should be ignored.\n",
    "    test.equal(test_val.children, [])\n",
    "\n",
    "    #Simple tag:\n",
    "    test_val = xml_node(\"<body>Lorem Ipsum Dolor Sit Amet</body>\")[0]\n",
    "    test.equal(test_val.tag, \"body\")\n",
    "    test.equal(test_val.content, \"Lorem Ipsum Dolor Sit Amet\")\n",
    "    test.equal(test_val.count_tags(), 1)\n",
    "    \n",
    "    # Whitespace and string handling:\n",
    "    test_val = xml_node(\"<body>     Lorem Ipsum <b  >Dolor</b> Sit <i>   Amet </i> </body>  \")[0]\n",
    "    test.equal(test_val.tag, \"body\")\n",
    "    test.equal([str(c) for c in test_val.children], ['Lorem Ipsum', '<b>Dolor</b>', 'Sit', '<i>Amet</i>'])\n",
    "    test.equal(test_val.count_tags(), 3)\n",
    "\n",
    "    # Attribute handling:\n",
    "    test_val = xml_node(\"<body class='A' attr = ' b' foo='bar'   />\")[0]\n",
    "    test.equal(test_val.tag, \"body\")\n",
    "    test.equal(list(test_val.attributes.items()), [('class', 'A'), ('attr ', ' b'), ('foo', 'bar')])\n",
    "    test.equal(test_val.count_tags(), 1)\n",
    "\n",
    "    # Exception throwing:\n",
    "    test.exception(lambda: xml_node(\"<note><to>You</from></note>\"), Exception)\n",
    "\n",
    "    # Full parser test:\n",
    "    test_val = xml_node(test_snippet)[0]\n",
    "    test.equal(str(test_val), \"<note date=\\\"8/31/12\\\"><to>Tove</to><from>Jani</from><heading type=\\\"Reminder\\\" /><body>Don't forget me this weekend!</body></note>\")\n",
    "    test.equal(test_val[0].tag, \"to\")\n",
    "    test.equal(test_val[1].tag, \"from\")\n",
    "    test.equal(test_val[2].attributes, {'type': 'Reminder'})\n",
    "    test.equal(test_val[3].content, \"Don't forget me this weekend!\")\n",
    "    test.equal(test_val.count_tags(), 5)\n",
    "\n",
    "    # Course webpage test:\n",
    "    test_val = xml_node(course_webpage)\n",
    "    test.equal(test_val.count_tags(), 126) # This value may change.    "
   ]
  },
  {
   "cell_type": "code",
   "execution_count": null,
   "metadata": {
    "collapsed": true
   },
   "outputs": [],
   "source": [
    "@test\n",
    "def xml_node(inp):\n",
    "    return XMLNode.fromString(inp)"
   ]
  },
  {
   "cell_type": "markdown",
   "metadata": {},
   "source": [
    "There is a lot that this function needs to do, which is best explained by an example.  We'll eventually parse the `test_snippet` above using the command:\n",
    "\n",
    "```python\n",
    "root = XMLNode.fromString(test_snippet)\n",
    "```\n",
    "\n",
    "This will create a root node with a blank tag, an empty dictionary for the attributes, and children populated by parsing the test_snippet; the `content` attribute here will contain the entire test snippet.\n",
    "\n",
    "The `children` attribute is a list that contains XMLNode instances corresponding to `node` tags and `string` instances corresponding to raw text between and inside tags.  Each time you instantiate an XMLNode, it must recursively create all its children. The call above would populate its children with:\n",
    "\n",
    "```python\n",
    "root.children = [XMLNode(\"note\", {\"date\":\"8/31/12\"}, \"\\n    <to>Tove</to>\\n    <from>Jani</from>...\")]\n",
    "```\n",
    "\n",
    "This child node will have the tag `note` and attributes `{\"date\":\"8/31/12\"}`, plus content between `<note ...>` and `</note>`.  It, in turn, will have four children:\n",
    "\n",
    "```python\n",
    "root[0].children = [\n",
    "    XMLNode(\"to\", {}, \"Tove\"),\n",
    "    XMLNode(\"from\", {}, \"Jani\"),\n",
    "    XMLNode(\"heading\", {\"type\": \"Reminder\"}, \"Tove\"),\n",
    "    XMLNode(\"body\", {}, \"Don't forget me this weekend!\"),\n",
    "]\n",
    "```\n",
    "\n",
    "Children of nodes can be XMLNodes or raw text, for example:\n",
    "\n",
    "```python\n",
    "root = XMLNode.fromString(\"Does this <i>  really</i> work?\")\n",
    "root.children = [\n",
    "    \"Does this\",\n",
    "    XMLNode(\"i\", {}, \"Really\"),\n",
    "    \"work?\"\n",
    "]\n",
    "```\n",
    "\n",
    "Additionally, if you pass an XML object that is poorly formated, in that there is some mismatched open and close tag, the function should raise an exception.\n",
    "\n",
    "```python\n",
    "root = XMLNode(\"\", {}, \"<note><to>You</from></note>\") # Throws exception\n",
    "```\n",
    "\n",
    "Make sure your code passes all the test cases!"
   ]
  },
  {
   "cell_type": "markdown",
   "metadata": {},
   "source": [
    "Lets discuss in a bit more detail how the XML parsing will work algorithmically.  You being the initializer by copying the provided parameters to the class attributes.  Note that if you want you could make a full string copy here, but we don't bother.  Now we begin parsing the file, which we do by repeating the following logic until termination:\n",
    "1. Look for the next xml tag (or comment, etc), in the file.  This is best done by finding the next `'<'` character.  If you can't find any, return.\n",
    "2. If it's an xml prolog, html declaration, or comment, ignore this portion, and continue parsing after the prolog, declaration, or comment (i.e., throw away whatever information is contained in these portions)\n",
    "3. If it's an open tag, read its tag and attributes (you'll likely want to use a regular expression to parse the attributes as well, but we leave this up to you).  If it's just an open tag, then recursively create an XMLNode object initializer this tag and attributes, and the content that occurred after the open tag.  If it's an open/close tag, create a XMLNode the same as before but with empty content.\n",
    "4. If it's a close tag, make sure that the close tag matches the tag originally provided to the current XMLNode constructor (otherwise, we have a situation where one tag is closed with a different tag), and raise an Exception if not.  If the tags do match, then truncate the content to contain only the content before the closed tag matched, and return.\n",
    "\n",
    "Some hints:\n",
    "1. Keep track of the current position where you are parsing the file, and make sure to properly increment this so you move past any tag that you have parsed.\n",
    "2. Make use of the `match = regular_expression_obj.match(string, pos)` function, which looks for a match to the regular expression starting _exactly_ as position `pos` in `string`.  If this function returns `None`, then the regular expression did not match.  In the returned `match` object, `match.end()` contains the position where the match ended."
   ]
  },
  {
   "cell_type": "markdown",
   "metadata": {},
   "source": [
    "## Q3: Searching for tags\n",
    "\n",
    "One of the nicer elements of the `BeautifulSoup` library is the ability to quickly search for tags that have certain attributes, without worrying about the specific structure of the model (i.e., how many levels deep the tag is, how many may exist in the document etc).  We're going to implement a similar function in our `SearchableXMLNode` class, specifically:"
   ]
  },
  {
   "cell_type": "code",
   "execution_count": null,
   "metadata": {
    "collapsed": true
   },
   "outputs": [],
   "source": [
    "class SearchableXMLNode(XMLNode):\n",
    "    @staticmethod\n",
    "    def fromString(s):\n",
    "        return SearchableXMLNode(\"\", {}, s)\n",
    "\n",
    "    def __init__(self, *a, **kw):\n",
    "        super().__init__(*a, **kw)\n",
    "        \n",
    "    def create_child(self, *a, **kw):\n",
    "        return SearchableXMLNode(*a, **kw)\n",
    "    \n",
    "    def find(self, tag=None, **properties):\n",
    "        pass # IMPLEMENT THIS\n",
    "\n",
    "def searchable_xml_node_test(searchable_xml_node):\n",
    "    normalize = lambda l: sorted(str(s) for s in l)\n",
    "    # Simple test:\n",
    "    test_val = searchable_xml_node(\"<body>   <b>  Lorem </b> Ipsum <b  >Dolor</b> Sit <i>   Amet </i> </body>  \")[0]\n",
    "    # find without filters yields all nodes, without any bare text:\n",
    "    test.equal(normalize(test_val.find()), ['<b>Dolor</b>', '<b>Lorem</b>', '<body><b>Lorem</b>Ipsum<b>Dolor</b>Sit<i>Amet</i></body>', '<i>Amet</i>'])\n",
    "    # find with just a tag:\n",
    "    test.equal(normalize(test_val.find(\"b\")), ['<b>Dolor</b>', '<b>Lorem</b>'])\n",
    "    test.equal(normalize(test_val.find(\"i\")), ['<i>Amet</i>'])\n",
    "    test.equal(normalize(test_val.find(\"a\")), [])\n",
    "\n",
    "    # Course webpage test:\n",
    "    test_val = searchable_xml_node(course_webpage)\n",
    "    # find all links\n",
    "    test.equal(normalize(c[0] for c in test_val.find(\"a\")), ['Assignments', 'Calendar', 'FAQ', 'Information', 'Lectures', 'Policies', 'Practical Data Science', 'Staff', 'beautiful-jekyll', 'gmanek@cs.cmu.edu'])\n",
    "    # find only links in navigation bar\n",
    "    test.equal(normalize(c[0] for c in test_val.find(\"a\", **{ \"class\": \"btn\" })), ['Assignments', 'Calendar', 'FAQ', 'Information', 'Lectures', 'Policies', 'Staff'])\n",
    "    # Extract some page metadata\n",
    "    test.equal(len(test_val.find(\"meta\", name=\"author\")), 1)\n",
    "    test.equal(test_val.find(\"meta\", name=\"author\")[0].attributes[\"content\"], \"Practical Data Science\")"
   ]
  },
  {
   "cell_type": "code",
   "execution_count": null,
   "metadata": {
    "collapsed": true
   },
   "outputs": [],
   "source": [
    "@test\n",
    "def searchable_xml_node(inp):\n",
    "    return SearchableXMLNode.fromString(inp)"
   ]
  },
  {
   "cell_type": "markdown",
   "metadata": {},
   "source": [
    "For those who haven't seen the `**kwargs` parameter before, this is just a way to pass a variable-length list of parameters to a Python function as function parameters.  For example, you could call `find` via\n",
    "\n",
    "```python\n",
    "root.find(\"link\", rel=\"stylesheet\") -> [SearchableXMLNode(\"link\", {...}, \"...\")]\n",
    "```\n",
    "\n",
    "and in the `find` function, `kwargs` would be a dictionary equal to `{\"rel\":\"stylesheet\"}`.\n",
    "\n",
    "This function should return a list of _all_ SearchableXMLNodes that are descendents (children, children of children, etc), of the node you call it on. Providing no filter should match all nodes."
   ]
  }
 ],
 "metadata": {
  "anaconda-cloud": {},
  "kernelspec": {
   "display_name": "Python 3",
   "language": "python",
   "name": "python3"
  },
  "language_info": {
   "codemirror_mode": {
    "name": "ipython",
    "version": 3
   },
   "file_extension": ".py",
   "mimetype": "text/x-python",
   "name": "python",
   "nbconvert_exporter": "python",
   "pygments_lexer": "ipython3",
   "version": "3.6.3"
  }
 },
 "nbformat": 4,
 "nbformat_minor": 1
}
